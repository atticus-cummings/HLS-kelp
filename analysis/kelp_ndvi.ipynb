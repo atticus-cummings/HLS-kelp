{
 "cells": [
  {
   "cell_type": "code",
   "execution_count": null,
   "metadata": {},
   "outputs": [],
   "source": [
    "import os \n",
    "from tools import data_tools as dt\n",
    "from tools import kelp_tools_windows as kt\n",
    "import numpy as np\n",
    "import rasterio\n",
    "import matplotlib.pyplot as plt\n",
    "from rasterio.errors import RasterioIOError"
   ]
  },
  {
   "cell_type": "code",
   "execution_count": null,
   "metadata": {},
   "outputs": [],
   "source": [
    "path = rf'C:\\Users\\attic\\HLS_Kelp\\imagery\\Isla_vista_kelp_2018\\11SKU'\n",
    "granule= 'HLS.L30.T11SKU.2018042T183356.v2.0'\n",
    "img_path = os.path.join(path, granule)"
   ]
  },
  {
   "cell_type": "code",
   "execution_count": null,
   "metadata": {},
   "outputs": [],
   "source": [
    "sorted_files = kt.filter_and_sort_files(img_path,granule)\n",
    "land_mask = kt.create_land_mask(os.path.join(path,granule,sorted_files[0]))\n",
    "cloud_land_mask, cloud_but_not_land_mask, percent_cloud_covered = kt.create_qa_mask(land_mask, img_path)\n",
    "img_bands =[]\n",
    "transform=None\n",
    "try:\n",
    "    for file in sorted_files:\n",
    "        with rasterio.open(os.path.join(img_path, file)) as src:\n",
    "            img_bands.append(np.where(land_mask, 0, np.asarray(src.read(1))))\n",
    "            if(transform is None):\n",
    "                transform = src.transform\n",
    "                crs= src.crs\n",
    "\n",
    "    del cloud_land_mask\n",
    "    img = np.stack(img_bands, axis=0)\n",
    "except RasterioIOError as e:\n",
    "    print(f\"Error reading file {file} in granule {granule}: {e}\")"
   ]
  },
  {
   "cell_type": "code",
   "execution_count": null,
   "metadata": {},
   "outputs": [],
   "source": [
    "ndvi = (img[3,:,:]-img[2,:,:])/(img[3] + img[2])\n",
    "ndvi_fltr = np.where(abs(ndvi) < 5, ndvi, np.nan)"
   ]
  },
  {
   "cell_type": "code",
   "execution_count": null,
   "metadata": {},
   "outputs": [],
   "source": [
    "\n"
   ]
  },
  {
   "cell_type": "code",
   "execution_count": null,
   "metadata": {},
   "outputs": [],
   "source": [
    "ndvi = np.where(np.isfinite(ndvi), ndvi, -1)\n",
    "local_variance_gpu = kt.calculate_local_variance(ndvi,5)\n",
    "\n",
    "#local_variance_gpu = np.where(~np.isfinite(local_variance_gpu), , local_variance_gpu)\n",
    "\n",
    "max_local_variance = np.percentile(local_variance_gpu, 90)\n",
    "print(max_local_variance)\n",
    "ndvi_variance_mask = np.where(local_variance_gpu > 4, np.nan, ndvi)\n",
    "ndvi_variance_mask = np.where(ndvi == -1, np.nan, ndvi)\n",
    "ndvi_variance_mask = np.where(abs(ndvi_variance_mask) > 1, np.nan, ndvi_variance_mask)"
   ]
  },
  {
   "cell_type": "code",
   "execution_count": null,
   "metadata": {},
   "outputs": [],
   "source": [
    "plt.figure(figsize=(10,10))\n",
    "plt.imshow(ndvi_variance_mask[2700:3300,800:1900])\n",
    "#plt.imshow(local_variance_gpu[2700:3300,800:1900])\n",
    "plt.colorbar()"
   ]
  }
 ],
 "metadata": {
  "kernelspec": {
   "display_name": "hls_env",
   "language": "python",
   "name": "python3"
  },
  "language_info": {
   "codemirror_mode": {
    "name": "ipython",
    "version": 3
   },
   "file_extension": ".py",
   "mimetype": "text/x-python",
   "name": "python",
   "nbconvert_exporter": "python",
   "pygments_lexer": "ipython3",
   "version": "3.9.19"
  }
 },
 "nbformat": 4,
 "nbformat_minor": 2
}
