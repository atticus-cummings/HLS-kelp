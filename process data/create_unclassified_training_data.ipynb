{
 "cells": [
  {
   "cell_type": "code",
   "execution_count": null,
   "metadata": {},
   "outputs": [],
   "source": [
    "import rasterio\n",
    "#from rasterio.warp import calculate_default_transform, reproject, Resampling\n",
    "import numpy as np\n",
    "import matplotlib.pyplot as plt\n",
    "import os\n",
    "#import re\n",
    "#from sklearn.cluster import KMeans\n",
    "#from scipy.ndimage import binary_dilation\n",
    "#from matplotlib.colors import ListedColormap\n",
    "#import matplotlib.colors as mcolors\n",
    "from rasterio.errors import RasterioIOError\n",
    "import csv\n",
    "#from skimage import io\n",
    "#from pyproj import Transformer\n",
    "#import requests\n",
    "#from PIL import Image\n",
    "import sys\n",
    "#from io import BytesIO\n",
    "from tools import kelp_tools as kt\n",
    "import cupy as cp"
   ]
  },
  {
   "cell_type": "code",
   "execution_count": null,
   "metadata": {},
   "outputs": [],
   "source": [
    "tile = '11SKU'\n",
    "location = 'Isla_vista_kelp'\n",
    "cloud_cover_threshold = .25\n",
    "save_mask = True\n",
    "save_classification = True\n",
    "path = os.path.join(r'/mnt/h/HLS_data/imagery',location,tile)\n",
    "#path = r'C:\\Users\\attic\\HLS_Kelp\\imagery\\Isla_vista_kelp_2018\\11SKU'\n",
    "item = 'HLS.S30.T11SKU.2017297T184441.v2.0'\n",
    "dem_path = r'/mnt/c/Users/attic/HLS_Kelp/imagery/Socal_DEM.tiff'\n",
    "img_path = os.path.join(path, item)\n",
    "show_dem = True\n",
    "use_kmeans = False"
   ]
  },
  {
   "cell_type": "code",
   "execution_count": null,
   "metadata": {},
   "outputs": [],
   "source": [
    "\n",
    "\n",
    "img_files = kt.filter_and_sort_files(img_path,item)\n",
    "\n",
    "geotiff_path = os.path.join(img_path, img_files[0])\n",
    "\n",
    "land_mask = kt.create_land_mask(geotiff_path, dem_path=dem_path, show_image=show_dem, as_numpy=True)"
   ]
  },
  {
   "cell_type": "code",
   "execution_count": null,
   "metadata": {},
   "outputs": [],
   "source": [
    "##==========Fmask Cloud mask==========##\n",
    "\n",
    "cloud_land_mask, cloud_but_not_land_mask, percent_cloud_covered = kt.create_qa_mask(land_mask, img_path=img_path)\n",
    "\n",
    "##==========Create stacked np array, Apply landmask==========##\n",
    "img_bands = []\n",
    "crs = None\n",
    "transform = None\n",
    "try:\n",
    "    for file in img_files:\n",
    "        with rasterio.open(os.path.join(img_path, file)) as src:\n",
    "            img_bands.append(cp.where(cloud_land_mask, 0, cp.asarray(src.read(1))))\n",
    "            if(transform is None):\n",
    "                transform = src.transform\n",
    "                crs= src.crs\n",
    "except RasterioIOError as e:\n",
    "    print(f\"Error reading file {file} in granule {item}: {e}\")\n",
    "    sys.exit()\n",
    "\n",
    "img = np.stack(img_bands, axis=0)\n",
    "n_bands, height, width = img.shape\n",
    "img_normalized = kt.normalize_img(img,flatten=False)"
   ]
  },
  {
   "cell_type": "code",
   "execution_count": null,
   "metadata": {},
   "outputs": [],
   "source": [
    "ocean_mask = (~land_mask & ~cp.asnumpy(cloud_but_not_land_mask))\n",
    "#cloud_but_not_land_mask #This is a reminder to use this pre-made mask \n",
    "\n",
    "combined_mask = cp.full(ocean_mask.shape, 1)\n",
    "combined_mask[land_mask] = 3\n",
    "combined_mask[cp.asnumpy(cloud_but_not_land_mask)] = 2\n",
    "combined_mask[cp.asnumpy(ocean_mask)] = 1\n",
    "\n",
    "plt.figure(figsize=(20, 10))\n",
    "plt.imshow(cp.asnumpy(combined_mask), cmap='Blues')\n",
    "plt.show()"
   ]
  },
  {
   "cell_type": "code",
   "execution_count": null,
   "metadata": {},
   "outputs": [],
   "source": [
    "if save_classification:\n",
    "    if not os.path.isdir (r'C:\\Users\\attic\\HLS_Kelp\\imagery\\rf_training_unclassified'):\n",
    "        os.mkdir(r'C:\\Users\\attic\\HLS_Kelp\\imagery\\rf_training_unclassified')\n",
    "    classification_path = os.path.join(r'C:\\Users\\attic\\HLS_Kelp\\imagery\\rf_training_unclassified',f'{item}_kelp.tif') \n",
    "    height, width = combined_mask.shape\n",
    "    reshaped_normalized_img = img_normalized\n",
    "    combined_img = np.dstack((reshaped_normalized_img,combined_mask))\n",
    "\n",
    "    plt.figure(figsize=(6, 6))\n",
    "    plt.imshow(combined_img[:,:,6], cmap='gray')\n",
    "    plt.show()  \n",
    "\n",
    "    num_bands = 7\n",
    "    data_type = rasterio.uint8\n",
    "    profile = {\n",
    "        'driver': 'GTiff',\n",
    "        'width': width,\n",
    "        'height': height,\n",
    "        'count': 7,  # one band\n",
    "        'dtype': data_type,  # assuming binary mask, adjust dtype if needed\n",
    "        'crs': crs,\n",
    "        'transform': transform,\n",
    "        'nodata': 0  # assuming no data is 0\n",
    "    }\n",
    "    # Write the land mask array to GeoTIFF\n",
    "    with rasterio.open(classification_path, 'w', **profile) as dst:\n",
    "        for i in range(num_bands):\n",
    "            dst.write(combined_img[:,:,i].astype(data_type), i + 1)"
   ]
  }
 ],
 "metadata": {
  "kernelspec": {
   "display_name": "hls-linux2",
   "language": "python",
   "name": "python3"
  },
  "language_info": {
   "codemirror_mode": {
    "name": "ipython",
    "version": 3
   },
   "file_extension": ".py",
   "mimetype": "text/x-python",
   "name": "python",
   "nbconvert_exporter": "python",
   "pygments_lexer": "ipython3",
   "version": "3.11.9"
  }
 },
 "nbformat": 4,
 "nbformat_minor": 2
}
