{
 "cells": [
  {
   "cell_type": "code",
   "execution_count": 4,
   "metadata": {},
   "outputs": [],
   "source": [
    "import sys \n",
    "# if '/mnt/c/Users/attic/HLS Kelp Detection/tools' not in sys.path:\n",
    "#     sys.path.append('/mnt/c/Users/attic/HLS Kelp Detection/tools')\n",
    "if r'C:\\Users\\attic\\HLS Kelp Detection\\tools' not in sys.path:\n",
    "    sys.path.append(r'C:\\Users\\attic\\HLS Kelp Detection\\tools')\n",
    "import data_tools as dt\n",
    "import os"
   ]
  },
  {
   "cell_type": "code",
   "execution_count": 7,
   "metadata": {},
   "outputs": [],
   "source": [
    "file_path = r'C:\\Users\\attic\\HLS Kelp Detection\\imagery\\tiles'\n",
    "tile = '10UCU'\n",
    "folder_path = os.path.join(file_path,tile)\n",
    "granule_list= ['HLS.S30.T10UCU.2020149T191909.v2.0',\n",
    "'HLS.S30.T10UCU.2020251T190931.v2.0',\n",
    "'HLS.L30.T10UCU.2023129T191326.v2.0',\n",
    "'HLS.S30.T10UCU.2020254T192001.v2.0',\n",
    "'HLS.S30.T10UCU.2018196T190909.v2.0',\n",
    "'HLS.S30.T10UCU.2021168T191911.v2.0',\n",
    "'HLS.L30.T10UCU.2018043T191337.v2.0']"
   ]
  },
  {
   "cell_type": "code",
   "execution_count": null,
   "metadata": {},
   "outputs": [],
   "source": [
    "for image in granule_list:\n",
    "    dt.view_img(os.path.join(folder_path,image))"
   ]
  }
 ],
 "metadata": {
  "kernelspec": {
   "display_name": "hls_env",
   "language": "python",
   "name": "python3"
  },
  "language_info": {
   "codemirror_mode": {
    "name": "ipython",
    "version": 3
   },
   "file_extension": ".py",
   "mimetype": "text/x-python",
   "name": "python",
   "nbconvert_exporter": "python",
   "pygments_lexer": "ipython3",
   "version": "3.9.19"
  }
 },
 "nbformat": 4,
 "nbformat_minor": 2
}
