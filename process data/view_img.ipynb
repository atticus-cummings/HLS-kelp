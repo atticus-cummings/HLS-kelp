{
 "cells": [
  {
   "cell_type": "code",
   "execution_count": null,
   "metadata": {},
   "outputs": [],
   "source": [
    "if '/mnt/c/Users/attic/HLS Kelp Detection/tools' not in sys.path:\n",
    "    sys.path.append('/mnt/c/Users/attic/HLS Kelp Detection/tools')\n",
    "import data_tools as dt"
   ]
  },
  {
   "cell_type": "code",
   "execution_count": null,
   "metadata": {},
   "outputs": [],
   "source": [
    "image_path = "
   ]
  }
 ],
 "metadata": {
  "language_info": {
   "name": "python"
  }
 },
 "nbformat": 4,
 "nbformat_minor": 2
}
