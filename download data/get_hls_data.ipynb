{
 "cells": [
  {
   "cell_type": "code",
   "execution_count": 1,
   "metadata": {},
   "outputs": [],
   "source": [
    "#Import libraries\n",
    "import os\n",
    "import geopandas as gp\n",
    "import matplotlib.pyplot as plt\n",
    "import json\n",
    "from contextlib import redirect_stdout\n",
    "import csv\n",
    "import earthaccess\n",
    "import rasterio\n",
    "import numpy as np\n",
    "import shutil "
   ]
  },
  {
   "cell_type": "code",
   "execution_count": 2,
   "metadata": {},
   "outputs": [
    {
     "data": {
      "text/plain": [
       "<earthaccess.auth.Auth at 0x2c55992cd60>"
      ]
     },
     "execution_count": 2,
     "metadata": {},
     "output_type": "execute_result"
    }
   ],
   "source": [
    "#Login\n",
    "earthaccess.login(persist=True)"
   ]
  },
  {
   "cell_type": "code",
   "execution_count": 13,
   "metadata": {},
   "outputs": [],
   "source": [
    "#Set time and location\n",
    "geojson_path = r'C:\\Users\\attic\\HLS Kelp Detection\\maps\\Isla_Vista_Kelp.geojson'\n",
    "field = gp.read_file(geojson_path)\n",
    "bbox = tuple(list(field.total_bounds))\n",
    "bbox #Display coordinate bounds\n",
    "with open(geojson_path, 'r') as f:\n",
    "    data = json.load(f)\n",
    "# Extract the name\n",
    "location = (data['name']).replace('.kmz', '').replace(' ', '_')\n",
    "temporal = (\"2024-07-01T00:00:00\", \"2025-01-01T00:00:00\") #\n",
    "\n",
    "#DEM map doesn't work great as is. For processing, I recommend downloading one from: https://www.ncei.noaa.gov/maps/bathymetry/ and inserting it into the /imagery folder\n",
    "create_dem = False # set true if u want a digital elevation map \n",
    "dem_name = 'dem.tif'\n",
    "\n",
    "num_to_download = 2 #set this value to the number of frames you want\n",
    "load_num = 2 #sets number of granules to load, this should generally be >> than num_download; -1 loads all \n",
    "specific_tile = True #set true if you only want specific tile \n",
    "download_to_path = r'C:\\Users\\attic\\HLS Kelp Detection\\imagery'\n",
    "tile = '11SKU' # \n",
    "\n",
    "threads = os.cpu_count() / 2 "
   ]
  },
  {
   "cell_type": "code",
   "execution_count": 14,
   "metadata": {},
   "outputs": [
    {
     "name": "stdout",
     "output_type": "stream",
     "text": [
      "Granules found: 50\n",
      "Collection: {'EntryTitle': 'HLS Sentinel-2 Multi-spectral Instrument Surface Reflectance Daily Global 30m v2.0'}\n",
      "Spatial coverage: {'HorizontalSpatialDomain': {'Geometry': {'GPolygons': [{'Boundary': {'Points': [{'Longitude': -120.25617766, 'Latitude': 34.20966703}, {'Longitude': -119.06537353, 'Latitude': 34.23552162}, {'Longitude': -119.09014717, 'Latitude': 35.2250277}, {'Longitude': -120.29518354, 'Latitude': 35.19820772}, {'Longitude': -120.25617766, 'Latitude': 34.20966703}]}}]}}}\n",
      "Temporal coverage: {'RangeDateTime': {'BeginningDateTime': '2024-07-04T18:54:48.466Z', 'EndingDateTime': '2024-07-04T18:54:55.166Z'}}\n",
      "Size(MB): 219.44079113006592\n",
      "Data: ['https://data.lpdaac.earthdatacloud.nasa.gov/lp-prod-protected/HLSS30.020/HLS.S30.T11SKU.2024186T183919.v2.0/HLS.S30.T11SKU.2024186T183919.v2.0.VZA.tif', 'https://data.lpdaac.earthdatacloud.nasa.gov/lp-prod-protected/HLSS30.020/HLS.S30.T11SKU.2024186T183919.v2.0/HLS.S30.T11SKU.2024186T183919.v2.0.B07.tif', 'https://data.lpdaac.earthdatacloud.nasa.gov/lp-prod-protected/HLSS30.020/HLS.S30.T11SKU.2024186T183919.v2.0/HLS.S30.T11SKU.2024186T183919.v2.0.B11.tif', 'https://data.lpdaac.earthdatacloud.nasa.gov/lp-prod-protected/HLSS30.020/HLS.S30.T11SKU.2024186T183919.v2.0/HLS.S30.T11SKU.2024186T183919.v2.0.B05.tif', 'https://data.lpdaac.earthdatacloud.nasa.gov/lp-prod-protected/HLSS30.020/HLS.S30.T11SKU.2024186T183919.v2.0/HLS.S30.T11SKU.2024186T183919.v2.0.B03.tif', 'https://data.lpdaac.earthdatacloud.nasa.gov/lp-prod-protected/HLSS30.020/HLS.S30.T11SKU.2024186T183919.v2.0/HLS.S30.T11SKU.2024186T183919.v2.0.Fmask.tif', 'https://data.lpdaac.earthdatacloud.nasa.gov/lp-prod-protected/HLSS30.020/HLS.S30.T11SKU.2024186T183919.v2.0/HLS.S30.T11SKU.2024186T183919.v2.0.B02.tif', 'https://data.lpdaac.earthdatacloud.nasa.gov/lp-prod-protected/HLSS30.020/HLS.S30.T11SKU.2024186T183919.v2.0/HLS.S30.T11SKU.2024186T183919.v2.0.B06.tif', 'https://data.lpdaac.earthdatacloud.nasa.gov/lp-prod-protected/HLSS30.020/HLS.S30.T11SKU.2024186T183919.v2.0/HLS.S30.T11SKU.2024186T183919.v2.0.B12.tif', 'https://data.lpdaac.earthdatacloud.nasa.gov/lp-prod-protected/HLSS30.020/HLS.S30.T11SKU.2024186T183919.v2.0/HLS.S30.T11SKU.2024186T183919.v2.0.B01.tif', 'https://data.lpdaac.earthdatacloud.nasa.gov/lp-prod-protected/HLSS30.020/HLS.S30.T11SKU.2024186T183919.v2.0/HLS.S30.T11SKU.2024186T183919.v2.0.B04.tif', 'https://data.lpdaac.earthdatacloud.nasa.gov/lp-prod-protected/HLSS30.020/HLS.S30.T11SKU.2024186T183919.v2.0/HLS.S30.T11SKU.2024186T183919.v2.0.B09.tif', 'https://data.lpdaac.earthdatacloud.nasa.gov/lp-prod-protected/HLSS30.020/HLS.S30.T11SKU.2024186T183919.v2.0/HLS.S30.T11SKU.2024186T183919.v2.0.SZA.tif', 'https://data.lpdaac.earthdatacloud.nasa.gov/lp-prod-protected/HLSS30.020/HLS.S30.T11SKU.2024186T183919.v2.0/HLS.S30.T11SKU.2024186T183919.v2.0.VAA.tif', 'https://data.lpdaac.earthdatacloud.nasa.gov/lp-prod-protected/HLSS30.020/HLS.S30.T11SKU.2024186T183919.v2.0/HLS.S30.T11SKU.2024186T183919.v2.0.B10.tif', 'https://data.lpdaac.earthdatacloud.nasa.gov/lp-prod-protected/HLSS30.020/HLS.S30.T11SKU.2024186T183919.v2.0/HLS.S30.T11SKU.2024186T183919.v2.0.SAA.tif', 'https://data.lpdaac.earthdatacloud.nasa.gov/lp-prod-protected/HLSS30.020/HLS.S30.T11SKU.2024186T183919.v2.0/HLS.S30.T11SKU.2024186T183919.v2.0.B8A.tif', 'https://data.lpdaac.earthdatacloud.nasa.gov/lp-prod-protected/HLSS30.020/HLS.S30.T11SKU.2024186T183919.v2.0/HLS.S30.T11SKU.2024186T183919.v2.0.B08.tif']\n"
     ]
    }
   ],
   "source": [
    "#Search for satellite data from  Landsat 30m and Sentinel 30m\n",
    "results = earthaccess.search_data(\n",
    "    short_name=['HLSL30','HLSS30'],\n",
    "    bounding_box=bbox,\n",
    "    temporal=temporal,\n",
    "     cloud_cover=0, #Determine cloud cover\n",
    "    count=load_num\n",
    ")\n",
    "if create_dem:\n",
    "    dem_results = earthaccess.search_data(\n",
    "        short_name=\"ASTGTM\",\n",
    "        bounding_box=bbox)\n",
    "    print(dem_results[0])\n",
    "\n",
    "print(results[0])\n"
   ]
  },
  {
   "cell_type": "code",
   "execution_count": 28,
   "metadata": {},
   "outputs": [
    {
     "name": "stdout",
     "output_type": "stream",
     "text": [
      "<class 'earthaccess.results.DataGranule'>\n",
      "['https://data.lpdaac.earthdatacloud.nasa.gov/lp-prod-protected/HLSS30.020/HLS.S30.T11SKU.2024186T183919.v2.0/HLS.S30.T11SKU.2024186T183919.v2.0.VZA.tif', 'https://data.lpdaac.earthdatacloud.nasa.gov/lp-prod-protected/HLSS30.020/HLS.S30.T11SKU.2024186T183919.v2.0/HLS.S30.T11SKU.2024186T183919.v2.0.B07.tif', 'https://data.lpdaac.earthdatacloud.nasa.gov/lp-prod-protected/HLSS30.020/HLS.S30.T11SKU.2024186T183919.v2.0/HLS.S30.T11SKU.2024186T183919.v2.0.B11.tif', 'https://data.lpdaac.earthdatacloud.nasa.gov/lp-prod-protected/HLSS30.020/HLS.S30.T11SKU.2024186T183919.v2.0/HLS.S30.T11SKU.2024186T183919.v2.0.B05.tif', 'https://data.lpdaac.earthdatacloud.nasa.gov/lp-prod-protected/HLSS30.020/HLS.S30.T11SKU.2024186T183919.v2.0/HLS.S30.T11SKU.2024186T183919.v2.0.B03.tif', 'https://data.lpdaac.earthdatacloud.nasa.gov/lp-prod-protected/HLSS30.020/HLS.S30.T11SKU.2024186T183919.v2.0/HLS.S30.T11SKU.2024186T183919.v2.0.Fmask.tif', 'https://data.lpdaac.earthdatacloud.nasa.gov/lp-prod-protected/HLSS30.020/HLS.S30.T11SKU.2024186T183919.v2.0/HLS.S30.T11SKU.2024186T183919.v2.0.B02.tif', 'https://data.lpdaac.earthdatacloud.nasa.gov/lp-prod-protected/HLSS30.020/HLS.S30.T11SKU.2024186T183919.v2.0/HLS.S30.T11SKU.2024186T183919.v2.0.B06.tif', 'https://data.lpdaac.earthdatacloud.nasa.gov/lp-prod-protected/HLSS30.020/HLS.S30.T11SKU.2024186T183919.v2.0/HLS.S30.T11SKU.2024186T183919.v2.0.B12.tif', 'https://data.lpdaac.earthdatacloud.nasa.gov/lp-prod-protected/HLSS30.020/HLS.S30.T11SKU.2024186T183919.v2.0/HLS.S30.T11SKU.2024186T183919.v2.0.B01.tif', 'https://data.lpdaac.earthdatacloud.nasa.gov/lp-prod-protected/HLSS30.020/HLS.S30.T11SKU.2024186T183919.v2.0/HLS.S30.T11SKU.2024186T183919.v2.0.B04.tif', 'https://data.lpdaac.earthdatacloud.nasa.gov/lp-prod-protected/HLSS30.020/HLS.S30.T11SKU.2024186T183919.v2.0/HLS.S30.T11SKU.2024186T183919.v2.0.B09.tif', 'https://data.lpdaac.earthdatacloud.nasa.gov/lp-prod-protected/HLSS30.020/HLS.S30.T11SKU.2024186T183919.v2.0/HLS.S30.T11SKU.2024186T183919.v2.0.SZA.tif', 'https://data.lpdaac.earthdatacloud.nasa.gov/lp-prod-protected/HLSS30.020/HLS.S30.T11SKU.2024186T183919.v2.0/HLS.S30.T11SKU.2024186T183919.v2.0.VAA.tif', 'https://data.lpdaac.earthdatacloud.nasa.gov/lp-prod-protected/HLSS30.020/HLS.S30.T11SKU.2024186T183919.v2.0/HLS.S30.T11SKU.2024186T183919.v2.0.B10.tif', 'https://data.lpdaac.earthdatacloud.nasa.gov/lp-prod-protected/HLSS30.020/HLS.S30.T11SKU.2024186T183919.v2.0/HLS.S30.T11SKU.2024186T183919.v2.0.SAA.tif', 'https://data.lpdaac.earthdatacloud.nasa.gov/lp-prod-protected/HLSS30.020/HLS.S30.T11SKU.2024186T183919.v2.0/HLS.S30.T11SKU.2024186T183919.v2.0.B8A.tif', 'https://data.lpdaac.earthdatacloud.nasa.gov/lp-prod-protected/HLSS30.020/HLS.S30.T11SKU.2024186T183919.v2.0/HLS.S30.T11SKU.2024186T183919.v2.0.B08.tif']\n"
     ]
    },
    {
     "ename": "AttributeError",
     "evalue": "'DataGranule' object has no attribute 'help'",
     "output_type": "error",
     "traceback": [
      "\u001b[1;31m---------------------------------------------------------------------------\u001b[0m",
      "\u001b[1;31mAttributeError\u001b[0m                            Traceback (most recent call last)",
      "Cell \u001b[1;32mIn[28], line 5\u001b[0m\n\u001b[0;32m      3\u001b[0m links \u001b[38;5;241m=\u001b[39m data\u001b[38;5;241m.\u001b[39mdata_links()\n\u001b[0;32m      4\u001b[0m \u001b[38;5;28mprint\u001b[39m(links)\n\u001b[1;32m----> 5\u001b[0m \u001b[38;5;28mprint\u001b[39m(\u001b[43mdata\u001b[49m\u001b[38;5;241;43m.\u001b[39;49m\u001b[43mhelp\u001b[49m)\n",
      "\u001b[1;31mAttributeError\u001b[0m: 'DataGranule' object has no attribute 'help'"
     ]
    }
   ],
   "source": [
    "data = results[0]\n",
    "print(type(data))\n",
    "links = data.data_links()\n",
    "print(links)\n",
    "print(data)\n",
    "\n"
   ]
  },
  {
   "cell_type": "code",
   "execution_count": 17,
   "metadata": {},
   "outputs": [],
   "source": [
    "folder_path = os.path.join(os.path.join(download_to_path,location))"
   ]
  },
  {
   "cell_type": "code",
   "execution_count": 18,
   "metadata": {},
   "outputs": [
    {
     "data": {
      "application/vnd.jupyter.widget-view+json": {
       "model_id": "3b57395dfa2f4d11b1d79efe3d4cfe28",
       "version_major": 2,
       "version_minor": 0
      },
      "text/plain": [
       "QUEUEING TASKS | :   0%|          | 0/1 [00:00<?, ?it/s]"
      ]
     },
     "metadata": {},
     "output_type": "display_data"
    },
    {
     "data": {
      "application/vnd.jupyter.widget-view+json": {
       "model_id": "30684078a7e34d42ab5d5fedad84c81e",
       "version_major": 2,
       "version_minor": 0
      },
      "text/plain": [
       "PROCESSING TASKS | :   0%|          | 0/1 [00:00<?, ?it/s]"
      ]
     },
     "metadata": {},
     "output_type": "display_data"
    },
    {
     "data": {
      "application/vnd.jupyter.widget-view+json": {
       "model_id": "a0ad090b1bf94fdfae980a617e1fd6f5",
       "version_major": 2,
       "version_minor": 0
      },
      "text/plain": [
       "COLLECTING RESULTS | :   0%|          | 0/1 [00:00<?, ?it/s]"
      ]
     },
     "metadata": {},
     "output_type": "display_data"
    },
    {
     "data": {
      "text/plain": [
       "['C:\\\\Users\\\\attic\\\\HLS Kelp Detection\\\\imagery\\\\Isla_Vista_Kelp\\\\HLS.S30.T11SKU.2024186T183919.v2.0.VZA.tif']"
      ]
     },
     "execution_count": 18,
     "metadata": {},
     "output_type": "execute_result"
    }
   ],
   "source": [
    "earthaccess.download(links[0], local_path=folder_path)"
   ]
  },
  {
   "cell_type": "code",
   "execution_count": null,
   "metadata": {},
   "outputs": [],
   "source": []
  },
  {
   "cell_type": "code",
   "execution_count": 5,
   "metadata": {},
   "outputs": [],
   "source": [
    "def extract_metadata(granule):\n",
    "    ## ======= Parse metadata ======= ##\n",
    "    json_str = json.dumps(granule.__dict__)\n",
    "    metadata = json.loads(json_str) \n",
    "    meta = metadata['render_dict']['meta']\n",
    "    #For some reason, attributes are parsed into a list in the HLS metadata. This reformats it into a dictionary.\n",
    "    attributes_list = metadata['render_dict']['umm']['AdditionalAttributes']\n",
    "    attributes = {attr['Name']: attr['Values'][0] for attr in attributes_list}\n",
    "    vis_urls = granule.dataviz_links()\n",
    "    meta['data_vis_url'] = vis_urls[0]\n",
    "    return {**attributes, **meta}\n",
    "def save_metadata_csv(metadata, file_path,folder_name):\n",
    "    ## ======= write metadata csv ======= ##\n",
    "    csv_file = os.path.join(file_path, (f'{folder_name}_metadata.csv'))\n",
    "    with open(csv_file, 'w', newline='') as file:\n",
    "        writer = csv.writer(file)\n",
    "        writer.writerow(metadata.keys())\n",
    "        writer.writerow(metadata.values())\n",
    "def get_sensor_bands(granule_name):\n",
    "    file_data = granule_name.split('.')\n",
    "    sensor = file_data[1]\n",
    "    if sensor == 'L30':\n",
    "        bands =  ['B02', 'B03', 'B04', 'B05', 'B06', 'B07','Fmask']\n",
    "    else:\n",
    "        bands =  ['B02', 'B03', 'B04', 'B8A', 'B11', 'B12','Fmask']\n",
    "def get_band_links(data_links, granule_name):\n",
    "    bands = get_sensor_bands(granule_name=granule_name)\n",
    "    filtered_links = [f for f in data_links if any(band in f for band in bands)]\n",
    "    return filtered_links\n",
    "\n",
    "def get_sorted_files(folder_path, granule_name):\n",
    "\n",
    "    sensor_bands = get_sensor_bands(granule_name)\n",
    "    img_files = os.listdir(folder_path)\n",
    "    filtered_files = [f for f in img_files if any(band in f for band in sensor_bands)]\n",
    "    \n",
    "    final_files = []\n",
    "    for band in sensor_bands:\n",
    "        for file in filtered_files:\n",
    "            if band in file:\n",
    "                final_files.append(file)\n",
    "    \n",
    "    # Sort files based on the order in sensor_bands\n",
    "    def sort_key(filename):\n",
    "        for band in sensor_bands:\n",
    "            if band in filename:\n",
    "                return sensor_bands.index(band)\n",
    "        return len(sensor_bands)  # Put files with no band information at the end\n",
    "    \n",
    "    sorted_files = sorted(final_files, key=sort_key)\n",
    "    \n",
    "    return sorted_files"
   ]
  },
  {
   "cell_type": "code",
   "execution_count": 31,
   "metadata": {},
   "outputs": [
    {
     "name": "stdout",
     "output_type": "stream",
     "text": [
      "HLS.S30.T11SKU.2024186T183919.v2.0\n"
     ]
    }
   ],
   "source": [
    "meta = extract_metadata(data)\n",
    "print(meta['native-id'])"
   ]
  },
  {
   "cell_type": "code",
   "execution_count": null,
   "metadata": {},
   "outputs": [],
   "source": [
    "\n",
    "folder_path = os.path.join(os.path.join(download_to_path,location))\n",
    "## ======= create location folder path ======= ##\n",
    "if not os.path.isdir(folder_path):\n",
    "    os.mkdir(folder_path)\n",
    "\n",
    "## ======= Create/write DEM, if requested ======= ##\n",
    "if create_dem:\n",
    "    if not os.path.isfile(os.path.join(folder_path, dem_name)):\n",
    "            dem_path = earthaccess.download(dem_results[0], local_path=folder_path)\n",
    "            os.rename(dem_path[0], os.path.join(folder_path,'dem.tif'))\n",
    "            os.rename(dem_path[1], os.path.join(folder_path, 'num.tif'))\n",
    "\n",
    "downloaded = 0\n",
    "\n",
    "for i, granule in enumerate(results):\n",
    "    metadata = extract_metadata(granule)\n",
    "    ## ======= Parse metadata ======= ##\n",
    "\n",
    "    name = metadata['native-id']\n",
    "\n",
    "    #For some reason, attributes are parsed into a list in the HLS metadata. This reformats it into a dictionary.\n",
    "    #print(attributes['MGRS_TILE_ID'])\n",
    "\n",
    "    if(int(metadata['CLOUD_COVERAGE']) > 50): #Reject granules with large cloud cover, for now\n",
    "        continue\n",
    "    time = metadata['SENSING_TIME']\n",
    "    tile_folder = metadata['MGRS_TILE_ID']\n",
    "    if specific_tile and not tile_folder == tile:\n",
    "        continue\n",
    "    ## ======= Create file directory, if needed  ======= ##\n",
    "    tile_path = os.path.join(folder_path,tile_folder)\n",
    "    if not os.path.isdir(tile_path):\n",
    "         os.mkdir(tile_path)\n",
    "    folder_name = (f'{name}')\n",
    "    file_path = os.path.join(tile_path,folder_name)\n",
    "    if not os.path.isdir(file_path):\n",
    "        os.mkdir(file_path) #Make folder for granule \n",
    "\n",
    "    # sorted data links \n",
    "    all_links = granule.data_links()\n",
    "    links = get_band_links(all_links, name)\n",
    "\n",
    "    ## ======= download granule ======= ##\n",
    "    with open(os.devnull, 'w') as f, redirect_stdout(f): #The print out of this is kind of annoying, this redirects *most* of it \n",
    "        downloadPath = earthaccess.download(links, local_path=file_path, threads=2)\n",
    "    downloaded = downloaded + 1\n",
    "    print(f'{name}')\n",
    "    if downloaded > num_to_download:\n",
    "         break\n",
    "\n",
    "    ## ======= write metadata csv ======= ##\n",
    "    save_metadata_csv(metadata,file_path,folder_name)\n"
   ]
  },
  {
   "cell_type": "code",
   "execution_count": 15,
   "metadata": {},
   "outputs": [],
   "source": [
    "temp_path = r'C:\\Users\\attic\\HLS Kelp Detection\\temp'\n",
    "folder_path = os.path.join(os.path.join(download_to_path,location))\n",
    "## ======= create location folder path ======= ##\n",
    "\n",
    "downloaded = 0\n",
    "\n",
    "for i, granule in enumerate(results):\n",
    "    if os.path.isdir(temp_path):\n",
    "       shutil.rmtree(temp_path)\n",
    "    os.mkdir(temp_path)\n",
    "    metadata = extract_metadata(granule)\n",
    "    ## ======= Parse metadata ======= ##\n",
    "\n",
    "    name = metadata['native-id']\n",
    "\n",
    "    #For some reason, attributes are parsed into a list in the HLS metadata. This reformats it into a dictionary.\n",
    "    #print(attributes['MGRS_TILE_ID'])\n",
    "\n",
    "    if(int(metadata['CLOUD_COVERAGE']) > 50): #Reject granules with large cloud cover, for now\n",
    "        continue\n",
    "    time = metadata['SENSING_TIME']\n",
    "    tile_folder = metadata['MGRS_TILE_ID']\n",
    "    if specific_tile and not tile_folder == tile:\n",
    "        continue\n",
    "    ## ======= Create file directory, if needed  ======= ##\n",
    "    tile_path = os.path.join(folder_path,tile_folder)\n",
    "    if not os.path.isdir(tile_path):\n",
    "         os.mkdir(tile_path)\n",
    "    file_path = os.path.join(tile_path,f'{name}.tif')\n",
    "    if os.path.isfile(file_path):\n",
    "        continue\n",
    "    # if not os.path.isdir(file_path):\n",
    "    #     os.mkdir(file_path) #Make folder for granule \n",
    "\n",
    "    # sorted data links \n",
    "    all_links = granule.data_links()\n",
    "    links = get_band_links(all_links, name)\n",
    "\n",
    "    ## ======= download granule ======= ##\n",
    "    #with open(os.devnull, 'w') as f, redirect_stdout(f): #The print out of this is kind of annoying, this redirects *most* of it \n",
    "    downloadPath = earthaccess.download(links, local_path=temp_path)\n",
    "    bands = []\n",
    "    transform = None\n",
    "\n",
    "    for file in get_sorted_files(folder_path=temp_path,granule_name=name):\n",
    "        with rasterio.open(os.path.join(temp_path,file), 'r') as src:\n",
    "            bands.append(src.read())\n",
    "            if transform is None:\n",
    "                transform = src.transform\n",
    "                crs = src.crs\n",
    "\n",
    "    bands = np.vstack(bands)\n",
    "    print(bands.shape)\n",
    "    num_bands, height, width = bands.shape\n",
    "    data_type = rasterio.int16\n",
    "    profile = {\n",
    "        'driver': 'GTiff',\n",
    "        'width': width,\n",
    "        'height': height,\n",
    "        'count': num_bands,  # one band  B02, B03, B04, and B05, classified, mesma (Blue, Green, Red, and NIR).\n",
    "        'dtype': data_type,  # assuming binary mask, adjust dtype if needed\n",
    "        'crs': crs,\n",
    "        'transform': transform,\n",
    "        'nodata': 0,  # assuming no data is 0\n",
    "        'tags': metadata\n",
    "    }\n",
    "\n",
    "    with rasterio.open(file_path, 'w', **profile) as dst: #output file is a stack of 6 HLS bands (in chronological order) + Fmask as image 7\n",
    "        for i,band in enumerate(bands):\n",
    "            dst.write(band.astype(data_type), i + 1)\n",
    "\n",
    "    \n",
    "    downloaded = downloaded + 1\n",
    "    shutil.rmtree(temp_path)\n",
    "    print(f'{name}')\n",
    "    if downloaded > num_to_download:\n",
    "         break\n",
    "\n",
    "    ## ======= write metadata csv ======= ##\n",
    "    #save_metadata_csv(metadata,file_path,folder_name)\n"
   ]
  }
 ],
 "metadata": {
  "kernelspec": {
   "display_name": "hls_env",
   "language": "python",
   "name": "python3"
  },
  "language_info": {
   "codemirror_mode": {
    "name": "ipython",
    "version": 3
   },
   "file_extension": ".py",
   "mimetype": "text/x-python",
   "name": "python",
   "nbconvert_exporter": "python",
   "pygments_lexer": "ipython3",
   "version": "3.9.19"
  }
 },
 "nbformat": 4,
 "nbformat_minor": 2
}
