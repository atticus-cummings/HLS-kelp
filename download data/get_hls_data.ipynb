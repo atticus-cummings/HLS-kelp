{
 "cells": [
  {
   "cell_type": "code",
   "execution_count": 1,
   "metadata": {},
   "outputs": [],
   "source": [
    "#Import libraries\n",
    "import os\n",
    "import geopandas as gp\n",
    "import matplotlib.pyplot as plt\n",
    "import json\n",
    "from contextlib import redirect_stdout\n",
    "import sys\n",
    "if r'C:\\Users\\attic\\HLS Kelp Detection\\tools' not in sys.path:\n",
    "    sys.path.append(r'C:\\Users\\attic\\HLS Kelp Detection\\tools')\n",
    "import earth_access_tools as eat\n",
    "import csv\n",
    "import earthaccess\n",
    "import rasterio\n",
    "import numpy as np\n",
    "import shutil "
   ]
  },
  {
   "cell_type": "code",
   "execution_count": 2,
   "metadata": {},
   "outputs": [
    {
     "data": {
      "text/plain": [
       "<earthaccess.auth.Auth at 0x168e8bea130>"
      ]
     },
     "execution_count": 2,
     "metadata": {},
     "output_type": "execute_result"
    }
   ],
   "source": [
    "#Login\n",
    "earthaccess.login(persist=True)"
   ]
  },
  {
   "cell_type": "code",
   "execution_count": 16,
   "metadata": {},
   "outputs": [],
   "source": [
    "#Set time and location\n",
    "geojson_path = r'C:\\Users\\attic\\HLS Kelp Detection\\maps\\Isla_Vista_Kelp.geojson'\n",
    "field = gp.read_file(geojson_path)\n",
    "bbox = tuple(list(field.total_bounds))\n",
    "bbox #Display coordinate bounds\n",
    "with open(geojson_path, 'r') as f:\n",
    "    data = json.load(f)\n",
    "# Extract the name\n",
    "temporal = (\"2018-12-25T00:00:00\", \"2019-01-01T00:00:00\") #\n",
    "\n",
    "#DEM map doesn't work great as is. For processing, I recommend downloading one from: https://www.ncei.noaa.gov/maps/bathymetry/ and inserting it into the /imagery folder\n",
    "create_dem = False # set true if u want a digital elevation map \n",
    "dem_name = 'dem.tif'\n",
    "\n",
    "num_to_download = 500 #set this value to the number of frames you want\n",
    "load_num = 500 #sets number of granules to load, this should generally be >> than num_download; -1 loads all \n",
    "specific_tile = True #set true if you only want specific tile \n",
    "download_to_path = r'C:\\Users\\attic\\HLS Kelp Detection\\imagery'\n",
    "tile = '11SKU' # \n",
    "\n",
    "threads = os.cpu_count() / 2 "
   ]
  },
  {
   "cell_type": "code",
   "execution_count": 21,
   "metadata": {},
   "outputs": [
    {
     "name": "stdout",
     "output_type": "stream",
     "text": [
      "Granules found: 29250909\n"
     ]
    }
   ],
   "source": [
    "#Search for satellite data from  Landsat 30m and Sentinel 30m\n",
    "results = earthaccess.search_data(\n",
    "    short_name=['HLSL30','HLSS30'],\n",
    "    temporal=None,\n",
    "    count=load_num\n",
    "    \n",
    ")\n",
    "#print(results[0])\n"
   ]
  },
  {
   "cell_type": "code",
   "execution_count": 18,
   "metadata": {},
   "outputs": [],
   "source": []
  },
  {
   "cell_type": "code",
   "execution_count": 19,
   "metadata": {},
   "outputs": [
    {
     "name": "stdout",
     "output_type": "stream",
     "text": [
      "(-120.2561776636, 34.2096670331, -119.0901471721, 35.2250276976)\n",
      "Granules found: 29\n"
     ]
    },
    {
     "data": {
      "application/vnd.jupyter.widget-view+json": {
       "model_id": "34d168bab7374a8793af8b24eda5fead",
       "version_major": 2,
       "version_minor": 0
      },
      "text/plain": [
       "QUEUEING TASKS | :   0%|          | 0/7 [00:00<?, ?it/s]"
      ]
     },
     "metadata": {},
     "output_type": "display_data"
    },
    {
     "data": {
      "application/vnd.jupyter.widget-view+json": {
       "model_id": "4f45d2c61d7f4194a8f3d52691835447",
       "version_major": 2,
       "version_minor": 0
      },
      "text/plain": [
       "PROCESSING TASKS | :   0%|          | 0/7 [00:00<?, ?it/s]"
      ]
     },
     "metadata": {},
     "output_type": "display_data"
    },
    {
     "data": {
      "application/vnd.jupyter.widget-view+json": {
       "model_id": "0a12f5e296f64c0e8c1930024d654d96",
       "version_major": 2,
       "version_minor": 0
      },
      "text/plain": [
       "COLLECTING RESULTS | :   0%|          | 0/7 [00:00<?, ?it/s]"
      ]
     },
     "metadata": {},
     "output_type": "display_data"
    },
    {
     "data": {
      "application/vnd.jupyter.widget-view+json": {
       "model_id": "283a9cb9a6a34b89aab1f344facfc1e0",
       "version_major": 2,
       "version_minor": 0
      },
      "text/plain": [
       "QUEUEING TASKS | :   0%|          | 0/7 [00:00<?, ?it/s]"
      ]
     },
     "metadata": {},
     "output_type": "display_data"
    },
    {
     "data": {
      "application/vnd.jupyter.widget-view+json": {
       "model_id": "f122c397e0644e7a9e1bf90fe8e04105",
       "version_major": 2,
       "version_minor": 0
      },
      "text/plain": [
       "PROCESSING TASKS | :   0%|          | 0/7 [00:00<?, ?it/s]"
      ]
     },
     "metadata": {},
     "output_type": "display_data"
    },
    {
     "name": "stdout",
     "output_type": "stream",
     "text": [
      "HLS.S30.T11SKT.2018359T183751.v2.0\n"
     ]
    },
    {
     "data": {
      "application/vnd.jupyter.widget-view+json": {
       "model_id": "9144b289eb334c95bcbcdece8ae90a5b",
       "version_major": 2,
       "version_minor": 0
      },
      "text/plain": [
       "COLLECTING RESULTS | :   0%|          | 0/7 [00:00<?, ?it/s]"
      ]
     },
     "metadata": {},
     "output_type": "display_data"
    },
    {
     "data": {
      "application/vnd.jupyter.widget-view+json": {
       "model_id": "659f03cbd81341198811603c7732ed74",
       "version_major": 2,
       "version_minor": 0
      },
      "text/plain": [
       "QUEUEING TASKS | :   0%|          | 0/7 [00:00<?, ?it/s]"
      ]
     },
     "metadata": {},
     "output_type": "display_data"
    },
    {
     "data": {
      "application/vnd.jupyter.widget-view+json": {
       "model_id": "08fc684c3c4044a5a7bc781ad3852673",
       "version_major": 2,
       "version_minor": 0
      },
      "text/plain": [
       "PROCESSING TASKS | :   0%|          | 0/7 [00:00<?, ?it/s]"
      ]
     },
     "metadata": {},
     "output_type": "display_data"
    },
    {
     "name": "stdout",
     "output_type": "stream",
     "text": [
      "HLS.L30.T11SKU.2018362T183359.v2.0\n"
     ]
    },
    {
     "data": {
      "application/vnd.jupyter.widget-view+json": {
       "model_id": "9f145d66d4bd4fde911b30fce3b36231",
       "version_major": 2,
       "version_minor": 0
      },
      "text/plain": [
       "COLLECTING RESULTS | :   0%|          | 0/7 [00:00<?, ?it/s]"
      ]
     },
     "metadata": {},
     "output_type": "display_data"
    },
    {
     "data": {
      "application/vnd.jupyter.widget-view+json": {
       "model_id": "871af973d55248cc9f56be154f9a78b2",
       "version_major": 2,
       "version_minor": 0
      },
      "text/plain": [
       "QUEUEING TASKS | :   0%|          | 0/7 [00:00<?, ?it/s]"
      ]
     },
     "metadata": {},
     "output_type": "display_data"
    },
    {
     "data": {
      "application/vnd.jupyter.widget-view+json": {
       "model_id": "a54fbcdb77cf45a3a4b4b5795c185f19",
       "version_major": 2,
       "version_minor": 0
      },
      "text/plain": [
       "PROCESSING TASKS | :   0%|          | 0/7 [00:00<?, ?it/s]"
      ]
     },
     "metadata": {},
     "output_type": "display_data"
    },
    {
     "name": "stdout",
     "output_type": "stream",
     "text": [
      "HLS.L30.T11SKT.2018362T183423.v2.0\n"
     ]
    },
    {
     "data": {
      "application/vnd.jupyter.widget-view+json": {
       "model_id": "dc431dea9ca048f1b2467cdd74fabe8f",
       "version_major": 2,
       "version_minor": 0
      },
      "text/plain": [
       "COLLECTING RESULTS | :   0%|          | 0/7 [00:00<?, ?it/s]"
      ]
     },
     "metadata": {},
     "output_type": "display_data"
    },
    {
     "data": {
      "application/vnd.jupyter.widget-view+json": {
       "model_id": "c6e036a3a18544468c209cf6141a3958",
       "version_major": 2,
       "version_minor": 0
      },
      "text/plain": [
       "QUEUEING TASKS | :   0%|          | 0/7 [00:00<?, ?it/s]"
      ]
     },
     "metadata": {},
     "output_type": "display_data"
    },
    {
     "data": {
      "application/vnd.jupyter.widget-view+json": {
       "model_id": "cbefc82e1b5046729016d86ec0ae0bee",
       "version_major": 2,
       "version_minor": 0
      },
      "text/plain": [
       "PROCESSING TASKS | :   0%|          | 0/7 [00:00<?, ?it/s]"
      ]
     },
     "metadata": {},
     "output_type": "display_data"
    },
    {
     "name": "stdout",
     "output_type": "stream",
     "text": [
      "HLS.S30.T11SKU.2018362T184801.v2.0\n"
     ]
    },
    {
     "data": {
      "application/vnd.jupyter.widget-view+json": {
       "model_id": "c8633fdeafa2446695f0e36da0641f1c",
       "version_major": 2,
       "version_minor": 0
      },
      "text/plain": [
       "COLLECTING RESULTS | :   0%|          | 0/7 [00:00<?, ?it/s]"
      ]
     },
     "metadata": {},
     "output_type": "display_data"
    },
    {
     "data": {
      "application/vnd.jupyter.widget-view+json": {
       "model_id": "36a3af810eb84ef29886b8c40a4e09f2",
       "version_major": 2,
       "version_minor": 0
      },
      "text/plain": [
       "QUEUEING TASKS | :   0%|          | 0/7 [00:00<?, ?it/s]"
      ]
     },
     "metadata": {},
     "output_type": "display_data"
    },
    {
     "data": {
      "application/vnd.jupyter.widget-view+json": {
       "model_id": "a528e2e61ad44413a9f9fd63531c3503",
       "version_major": 2,
       "version_minor": 0
      },
      "text/plain": [
       "PROCESSING TASKS | :   0%|          | 0/7 [00:00<?, ?it/s]"
      ]
     },
     "metadata": {},
     "output_type": "display_data"
    },
    {
     "name": "stdout",
     "output_type": "stream",
     "text": [
      "HLS.S30.T11SKT.2018362T184801.v2.0\n"
     ]
    },
    {
     "data": {
      "application/vnd.jupyter.widget-view+json": {
       "model_id": "1971a0eca4e2445ea9a84bb8369f9ada",
       "version_major": 2,
       "version_minor": 0
      },
      "text/plain": [
       "COLLECTING RESULTS | :   0%|          | 0/7 [00:00<?, ?it/s]"
      ]
     },
     "metadata": {},
     "output_type": "display_data"
    },
    {
     "data": {
      "application/vnd.jupyter.widget-view+json": {
       "model_id": "27c13caaf2a84803ad657d98dad3502d",
       "version_major": 2,
       "version_minor": 0
      },
      "text/plain": [
       "QUEUEING TASKS | :   0%|          | 0/7 [00:00<?, ?it/s]"
      ]
     },
     "metadata": {},
     "output_type": "display_data"
    },
    {
     "data": {
      "application/vnd.jupyter.widget-view+json": {
       "model_id": "9ba0d98bd7104371978985d1f492e323",
       "version_major": 2,
       "version_minor": 0
      },
      "text/plain": [
       "PROCESSING TASKS | :   0%|          | 0/7 [00:00<?, ?it/s]"
      ]
     },
     "metadata": {},
     "output_type": "display_data"
    },
    {
     "name": "stdout",
     "output_type": "stream",
     "text": [
      "HLS.S30.T11SKU.2018364T183759.v2.0\n"
     ]
    },
    {
     "data": {
      "application/vnd.jupyter.widget-view+json": {
       "model_id": "cd91c04abfc641bca8cbceb93af6f99a",
       "version_major": 2,
       "version_minor": 0
      },
      "text/plain": [
       "COLLECTING RESULTS | :   0%|          | 0/7 [00:00<?, ?it/s]"
      ]
     },
     "metadata": {},
     "output_type": "display_data"
    },
    {
     "name": "stdout",
     "output_type": "stream",
     "text": [
      "HLS.S30.T11SKT.2018364T183759.v2.0\n",
      "(-120.2222831961, 33.3095455631, -119.0675447348, 34.324205852)\n",
      "Granules found: 27\n"
     ]
    },
    {
     "data": {
      "application/vnd.jupyter.widget-view+json": {
       "model_id": "fc1a01060c3a4973a3ec56f1c2d02fd3",
       "version_major": 2,
       "version_minor": 0
      },
      "text/plain": [
       "QUEUEING TASKS | :   0%|          | 0/7 [00:00<?, ?it/s]"
      ]
     },
     "metadata": {},
     "output_type": "display_data"
    },
    {
     "data": {
      "application/vnd.jupyter.widget-view+json": {
       "model_id": "10e5e165b4e148f49af6e9f8f43d4d3f",
       "version_major": 2,
       "version_minor": 0
      },
      "text/plain": [
       "PROCESSING TASKS | :   0%|          | 0/7 [00:00<?, ?it/s]"
      ]
     },
     "metadata": {},
     "output_type": "display_data"
    },
    {
     "data": {
      "application/vnd.jupyter.widget-view+json": {
       "model_id": "e32496195af14ada9bcdb8339ff4ddfd",
       "version_major": 2,
       "version_minor": 0
      },
      "text/plain": [
       "COLLECTING RESULTS | :   0%|          | 0/7 [00:00<?, ?it/s]"
      ]
     },
     "metadata": {},
     "output_type": "display_data"
    },
    {
     "data": {
      "application/vnd.jupyter.widget-view+json": {
       "model_id": "287c71428fb44f0ba0873248c414e446",
       "version_major": 2,
       "version_minor": 0
      },
      "text/plain": [
       "QUEUEING TASKS | :   0%|          | 0/7 [00:00<?, ?it/s]"
      ]
     },
     "metadata": {},
     "output_type": "display_data"
    },
    {
     "data": {
      "application/vnd.jupyter.widget-view+json": {
       "model_id": "a3319de06b8d48e69a7907a1be9b1145",
       "version_major": 2,
       "version_minor": 0
      },
      "text/plain": [
       "PROCESSING TASKS | :   0%|          | 0/7 [00:00<?, ?it/s]"
      ]
     },
     "metadata": {},
     "output_type": "display_data"
    },
    {
     "data": {
      "application/vnd.jupyter.widget-view+json": {
       "model_id": "631594f26928408b989acd1373760155",
       "version_major": 2,
       "version_minor": 0
      },
      "text/plain": [
       "COLLECTING RESULTS | :   0%|          | 0/7 [00:00<?, ?it/s]"
      ]
     },
     "metadata": {},
     "output_type": "display_data"
    },
    {
     "data": {
      "application/vnd.jupyter.widget-view+json": {
       "model_id": "91512312ca7d46caa197b0c64fc86d3e",
       "version_major": 2,
       "version_minor": 0
      },
      "text/plain": [
       "QUEUEING TASKS | :   0%|          | 0/7 [00:00<?, ?it/s]"
      ]
     },
     "metadata": {},
     "output_type": "display_data"
    },
    {
     "data": {
      "application/vnd.jupyter.widget-view+json": {
       "model_id": "7bd15dab131b417990c2e837cfcc5b7a",
       "version_major": 2,
       "version_minor": 0
      },
      "text/plain": [
       "PROCESSING TASKS | :   0%|          | 0/7 [00:00<?, ?it/s]"
      ]
     },
     "metadata": {},
     "output_type": "display_data"
    },
    {
     "data": {
      "application/vnd.jupyter.widget-view+json": {
       "model_id": "fe8fdcf9e0764e4e93d9bbe858a5080a",
       "version_major": 2,
       "version_minor": 0
      },
      "text/plain": [
       "COLLECTING RESULTS | :   0%|          | 0/7 [00:00<?, ?it/s]"
      ]
     },
     "metadata": {},
     "output_type": "display_data"
    },
    {
     "data": {
      "application/vnd.jupyter.widget-view+json": {
       "model_id": "332ef79d525140ebab0550ad744bfeae",
       "version_major": 2,
       "version_minor": 0
      },
      "text/plain": [
       "QUEUEING TASKS | :   0%|          | 0/7 [00:00<?, ?it/s]"
      ]
     },
     "metadata": {},
     "output_type": "display_data"
    },
    {
     "data": {
      "application/vnd.jupyter.widget-view+json": {
       "model_id": "8b7c2ac018a0429d8d2d63eae8db4d30",
       "version_major": 2,
       "version_minor": 0
      },
      "text/plain": [
       "PROCESSING TASKS | :   0%|          | 0/7 [00:00<?, ?it/s]"
      ]
     },
     "metadata": {},
     "output_type": "display_data"
    },
    {
     "data": {
      "application/vnd.jupyter.widget-view+json": {
       "model_id": "c758fe6bd4034de5b1ec1b4df7005125",
       "version_major": 2,
       "version_minor": 0
      },
      "text/plain": [
       "COLLECTING RESULTS | :   0%|          | 0/7 [00:00<?, ?it/s]"
      ]
     },
     "metadata": {},
     "output_type": "display_data"
    },
    {
     "data": {
      "application/vnd.jupyter.widget-view+json": {
       "model_id": "81442a724f3044f5a644b77980b738f4",
       "version_major": 2,
       "version_minor": 0
      },
      "text/plain": [
       "QUEUEING TASKS | :   0%|          | 0/7 [00:00<?, ?it/s]"
      ]
     },
     "metadata": {},
     "output_type": "display_data"
    },
    {
     "data": {
      "application/vnd.jupyter.widget-view+json": {
       "model_id": "1eb2fa1a7cc14447b8549d2393a39862",
       "version_major": 2,
       "version_minor": 0
      },
      "text/plain": [
       "PROCESSING TASKS | :   0%|          | 0/7 [00:00<?, ?it/s]"
      ]
     },
     "metadata": {},
     "output_type": "display_data"
    },
    {
     "data": {
      "application/vnd.jupyter.widget-view+json": {
       "model_id": "d75b9019e24d4ef8bfb1e181cd12c350",
       "version_major": 2,
       "version_minor": 0
      },
      "text/plain": [
       "COLLECTING RESULTS | :   0%|          | 0/7 [00:00<?, ?it/s]"
      ]
     },
     "metadata": {},
     "output_type": "display_data"
    },
    {
     "name": "stdout",
     "output_type": "stream",
     "text": [
      "HLS.S30.T11SKT.2018359T183751.v2.0\n",
      "HLS.L30.T11SKU.2018362T183359.v2.0\n",
      "HLS.L30.T11SKT.2018362T183423.v2.0\n",
      "HLS.S30.T11SKU.2018362T184801.v2.0\n",
      "HLS.S30.T11SKT.2018362T184801.v2.0\n"
     ]
    },
    {
     "data": {
      "application/vnd.jupyter.widget-view+json": {
       "model_id": "4b8cb797f7c5460792de0d1552052598",
       "version_major": 2,
       "version_minor": 0
      },
      "text/plain": [
       "QUEUEING TASKS | :   0%|          | 0/7 [00:00<?, ?it/s]"
      ]
     },
     "metadata": {},
     "output_type": "display_data"
    },
    {
     "data": {
      "application/vnd.jupyter.widget-view+json": {
       "model_id": "37d9351014394a72bfdb10464da0ce63",
       "version_major": 2,
       "version_minor": 0
      },
      "text/plain": [
       "PROCESSING TASKS | :   0%|          | 0/7 [00:00<?, ?it/s]"
      ]
     },
     "metadata": {},
     "output_type": "display_data"
    },
    {
     "data": {
      "application/vnd.jupyter.widget-view+json": {
       "model_id": "f3c611b235aa49148f7d0d5829f86b97",
       "version_major": 2,
       "version_minor": 0
      },
      "text/plain": [
       "COLLECTING RESULTS | :   0%|          | 0/7 [00:00<?, ?it/s]"
      ]
     },
     "metadata": {},
     "output_type": "display_data"
    },
    {
     "data": {
      "application/vnd.jupyter.widget-view+json": {
       "model_id": "91232a1e924c47dc861c9800b3adc13a",
       "version_major": 2,
       "version_minor": 0
      },
      "text/plain": [
       "QUEUEING TASKS | :   0%|          | 0/7 [00:00<?, ?it/s]"
      ]
     },
     "metadata": {},
     "output_type": "display_data"
    },
    {
     "data": {
      "application/vnd.jupyter.widget-view+json": {
       "model_id": "af543829351841238017cd28f127c992",
       "version_major": 2,
       "version_minor": 0
      },
      "text/plain": [
       "PROCESSING TASKS | :   0%|          | 0/7 [00:00<?, ?it/s]"
      ]
     },
     "metadata": {},
     "output_type": "display_data"
    },
    {
     "data": {
      "application/vnd.jupyter.widget-view+json": {
       "model_id": "6f1a36d4ff224c42bbc91e207f02a7c0",
       "version_major": 2,
       "version_minor": 0
      },
      "text/plain": [
       "COLLECTING RESULTS | :   0%|          | 0/7 [00:00<?, ?it/s]"
      ]
     },
     "metadata": {},
     "output_type": "display_data"
    },
    {
     "name": "stdout",
     "output_type": "stream",
     "text": [
      "HLS.S30.T11SKU.2018364T183759.v2.0\n",
      "HLS.S30.T11SKT.2018364T183759.v2.0\n"
     ]
    }
   ],
   "source": [
    "download_hls_data(temporal,tiles=['11SKU','11SKT'],bbox=None)"
   ]
  },
  {
   "cell_type": "code",
   "execution_count": null,
   "metadata": {},
   "outputs": [],
   "source": [
    "\n",
    "folder_path = os.path.join(os.path.join(download_to_path,location))\n",
    "## ======= create location folder path ======= ##\n",
    "if not os.path.isdir(folder_path):\n",
    "    os.mkdir(folder_path)\n",
    "\n",
    "## ======= Create/write DEM, if requested ======= ##\n",
    "if create_dem:\n",
    "    if not os.path.isfile(os.path.join(folder_path, dem_name)):\n",
    "            dem_path = earthaccess.download(dem_results[0], local_path=folder_path)\n",
    "            os.rename(dem_path[0], os.path.join(folder_path,'dem.tif'))\n",
    "            os.rename(dem_path[1], os.path.join(folder_path, 'num.tif'))\n",
    "\n",
    "downloaded = 0\n",
    "\n",
    "for i, granule in enumerate(results):\n",
    "    metadata = eat.extract_metadata(granule)\n",
    "    ## ======= Parse metadata ======= ##\n",
    "\n",
    "    name = metadata['native-id']\n",
    "\n",
    "    #For some reason, attributes are parsed into a list in the HLS metadata. This reformats it into a dictionary.\n",
    "    #print(attributes['MGRS_TILE_ID'])\n",
    "\n",
    "    if(int(metadata['CLOUD_COVERAGE']) > 50): #Reject granules with large cloud cover, for now\n",
    "        continue\n",
    "    time = metadata['SENSING_TIME']\n",
    "    tile_folder = metadata['MGRS_TILE_ID']\n",
    "    if specific_tile and not tile_folder == tile:\n",
    "        continue\n",
    "    ## ======= Create file directory, if needed  ======= ##\n",
    "    tile_path = os.path.join(folder_path,tile_folder)\n",
    "    if not os.path.isdir(tile_path):\n",
    "         os.mkdir(tile_path)\n",
    "    folder_name = (f'{name}')\n",
    "    file_path = os.path.join(tile_path,folder_name)\n",
    "    if not os.path.isdir(file_path):\n",
    "        os.mkdir(file_path) #Make folder for granule \n",
    "\n",
    "    # sorted data links \n",
    "    all_links = granule.data_links()\n",
    "    links = get_band_links(all_links, name)\n",
    "\n",
    "    ## ======= download granule ======= ##\n",
    "    with open(os.devnull, 'w') as f, redirect_stdout(f): #The print out of this is kind of annoying, this redirects *most* of it \n",
    "        downloadPath = earthaccess.download(links, local_path=file_path, threads=2)\n",
    "    downloaded = downloaded + 1\n",
    "    print(f'{name}')\n",
    "    if downloaded > num_to_download:\n",
    "         break\n",
    "\n",
    "    ## ======= write metadata csv ======= ##\n",
    "    save_metadata_csv(metadata,file_path,folder_name)\n"
   ]
  },
  {
   "cell_type": "code",
   "execution_count": null,
   "metadata": {},
   "outputs": [],
   "source": [
    "#Alternatively, this recompiles the downloaded data into a single tif. \n",
    "#The previous method is probably better. Leaving this just in case.\n",
    "\n",
    "# temp_path = r'C:\\Users\\attic\\HLS Kelp Detection\\temp'\n",
    "# folder_path = os.path.join(os.path.join(download_to_path,location))\n",
    "# ## ======= create location folder path ======= ##\n",
    "\n",
    "# downloaded = 0\n",
    "\n",
    "# for i, granule in enumerate(results):\n",
    "#     if os.path.isdir(temp_path):\n",
    "#        shutil.rmtree(temp_path)\n",
    "#     os.mkdir(temp_path)\n",
    "#     metadata = extract_metadata(granule)\n",
    "#     ## ======= Parse metadata ======= ##\n",
    "\n",
    "#     name = metadata['native-id']\n",
    "\n",
    "#     #For some reason, attributes are parsed into a list in the HLS metadata. This reformats it into a dictionary.\n",
    "#     #print(attributes['MGRS_TILE_ID'])\n",
    "\n",
    "#     if(int(metadata['CLOUD_COVERAGE']) > 50): #Reject granules with large cloud cover, for now\n",
    "#         continue\n",
    "#     time = metadata['SENSING_TIME']\n",
    "#     tile_folder = metadata['MGRS_TILE_ID']\n",
    "#     if specific_tile and not tile_folder == tile:\n",
    "#         continue\n",
    "#     ## ======= Create file directory, if needed  ======= ##\n",
    "#     tile_path = os.path.join(folder_path,tile_folder)\n",
    "#     if not os.path.isdir(tile_path):\n",
    "#          os.mkdir(tile_path)\n",
    "#     file_path = os.path.join(tile_path,f'{name}.tif')\n",
    "#     if os.path.isfile(file_path):\n",
    "#         continue\n",
    "#     # if not os.path.isdir(file_path):\n",
    "#     #     os.mkdir(file_path) #Make folder for granule \n",
    "\n",
    "#     # sorted data links \n",
    "#     all_links = granule.data_links()\n",
    "#     links = get_band_links(all_links, name)\n",
    "\n",
    "#     ## ======= download granule ======= ##\n",
    "#     #with open(os.devnull, 'w') as f, redirect_stdout(f): #The print out of this is kind of annoying, this redirects *most* of it \n",
    "#     downloadPath = earthaccess.download(links, local_path=temp_path)\n",
    "#     bands = []\n",
    "#     transform = None\n",
    "\n",
    "#     for file in get_sorted_files(folder_path=temp_path,granule_name=name):\n",
    "#         with rasterio.open(os.path.join(temp_path,file), 'r') as src:\n",
    "#             bands.append(src.read())\n",
    "#             if transform is None:\n",
    "#                 transform = src.transform\n",
    "#                 crs = src.crs\n",
    "\n",
    "#     bands = np.vstack(bands)\n",
    "#     print(bands.shape)\n",
    "#     num_bands, height, width = bands.shape\n",
    "#     data_type = rasterio.int16\n",
    "#     profile = {\n",
    "#         'driver': 'GTiff',\n",
    "#         'width': width,\n",
    "#         'height': height,\n",
    "#         'count': num_bands,  # one band  B02, B03, B04, and B05, classified, mesma (Blue, Green, Red, and NIR).\n",
    "#         'dtype': data_type,  # assuming binary mask, adjust dtype if needed\n",
    "#         'crs': crs,\n",
    "#         'transform': transform,\n",
    "#         'nodata': 0,  # assuming no data is 0\n",
    "#         'tags': metadata\n",
    "#     }\n",
    "\n",
    "#     with rasterio.open(file_path, 'w', **profile) as dst: #output file is a stack of 6 HLS bands (in chronological order) + Fmask as image 7\n",
    "#         for i,band in enumerate(bands):\n",
    "#             dst.write(band.astype(data_type), i + 1)\n",
    "\n",
    "    \n",
    "#     downloaded = downloaded + 1\n",
    "#     shutil.rmtree(temp_path)\n",
    "#     print(f'{name}')\n",
    "#     if downloaded > num_to_download:\n",
    "#          break\n"
   ]
  }
 ],
 "metadata": {
  "kernelspec": {
   "display_name": "hls_env",
   "language": "python",
   "name": "python3"
  },
  "language_info": {
   "codemirror_mode": {
    "name": "ipython",
    "version": 3
   },
   "file_extension": ".py",
   "mimetype": "text/x-python",
   "name": "python",
   "nbconvert_exporter": "python",
   "pygments_lexer": "ipython3",
   "version": "3.9.19"
  }
 },
 "nbformat": 4,
 "nbformat_minor": 2
}
