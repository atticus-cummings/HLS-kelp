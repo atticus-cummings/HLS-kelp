{
 "cells": [
  {
   "cell_type": "code",
   "execution_count": 1,
   "metadata": {},
   "outputs": [],
   "source": [
    "import earthaccess\n",
    "import sys\n",
    "import os\n",
    "if r'C:\\Users\\attic\\HLS Kelp Detection\\tools' not in sys.path:\n",
    "    sys.path.append(r'C:\\Users\\attic\\HLS Kelp Detection\\tools')\n",
    "import kelp_tools_windows as kt\n",
    "import earth_access_tools as eat\n",
    "import mgrs\n",
    "from pyproj import Proj, transform,Transformer\n",
    "import rasterio\n",
    "import matplotlib.pyplot as plt\n",
    "import numpy as np\n",
    "import zipfile\n",
    "import requests\n",
    "import xml.etree.ElementTree as ET\n",
    "import csv"
   ]
  },
  {
   "cell_type": "code",
   "execution_count": 8,
   "metadata": {},
   "outputs": [],
   "source": [
    "def search_bounding_box(tile_id, csv_file=r'C:\\Users\\attic\\HLS Kelp Detection\\maps\\tiling_boxes.csv', clip=False):\n",
    "        with open(csv_file, mode='r') as file:\n",
    "            csv_reader = csv.reader(file)\n",
    "            coords = None\n",
    "            for row in csv_reader:\n",
    "                if row[0] == tile_id:\n",
    "                    coords = row[1:]\n",
    "                    break\n",
    "            if coords is None:\n",
    "                return None\n",
    "        bounding_box=(float(coords[9]), float(coords[10]), float(coords[3]),float(coords[4]))\n",
    "        print(coords)\n",
    "        return bounding_box"
   ]
  },
  {
   "cell_type": "code",
   "execution_count": 2,
   "metadata": {},
   "outputs": [
    {
     "data": {
      "text/plain": [
       "'C:\\\\Users\\\\attic\\\\HLS Kelp Detection\\\\maps\\\\tiling_boxes.csv'"
      ]
     },
     "execution_count": 2,
     "metadata": {},
     "output_type": "execute_result"
    }
   ],
   "source": [
    "eat.create_tiling_reference()"
   ]
  },
  {
   "cell_type": "code",
   "execution_count": 9,
   "metadata": {},
   "outputs": [
    {
     "name": "stdout",
     "output_type": "stream",
     "text": [
      "['-120.2951835442', '35.1982077222', '0.0', '-119.0901471721', '35.2250276976', '0.0', '-119.0653735271', '34.235521621', '0.0', '-120.2561776636', '34.2096670331', '0.0']\n"
     ]
    },
    {
     "data": {
      "text/plain": [
       "(-120.2561776636, 34.2096670331, -119.0901471721, 35.2250276976)"
      ]
     },
     "execution_count": 9,
     "metadata": {},
     "output_type": "execute_result"
    }
   ],
   "source": [
    "search_bounding_box('11SKU')\n"
   ]
  },
  {
   "cell_type": "code",
   "execution_count": 4,
   "metadata": {},
   "outputs": [],
   "source": [
    "hls_path = r'C:\\Users\\attic\\HLS Kelp Detection\\imagery\\Isla_Vista_Kelp\\11SKU\\HLS.L30.T11SKU.2018186T183312.v2.0\\HLS.L30.T11SKU.2018186T183312.v2.0.B02.tif'\n",
    "tile = '11SKU'\n",
    "dem_path = rf'C:\\Users\\attic\\HLS Kelp Detection\\imagery\\Isla_Vista_Kelp\\{tile}\\dem'"
   ]
  },
  {
   "cell_type": "code",
   "execution_count": 5,
   "metadata": {},
   "outputs": [
    {
     "name": "stdout",
     "output_type": "stream",
     "text": [
      "Granules found: 4\n",
      " Getting 1 granules, approx download size: 0.02 GB\n"
     ]
    },
    {
     "data": {
      "application/vnd.jupyter.widget-view+json": {
       "model_id": "8f0faa4ea66f4455a9b2438cb6ecda62",
       "version_major": 2,
       "version_minor": 0
      },
      "text/plain": [
       "QUEUEING TASKS | :   0%|          | 0/2 [00:00<?, ?it/s]"
      ]
     },
     "metadata": {},
     "output_type": "display_data"
    },
    {
     "name": "stdout",
     "output_type": "stream",
     "text": [
      "File ASTGTMV003_N35W121_dem.tif already downloaded\n",
      "File ASTGTMV003_N35W121_num.tif already downloaded\n"
     ]
    },
    {
     "data": {
      "application/vnd.jupyter.widget-view+json": {
       "model_id": "e1d07f1db665462da03dcdcdff0b3d5e",
       "version_major": 2,
       "version_minor": 0
      },
      "text/plain": [
       "PROCESSING TASKS | :   0%|          | 0/2 [00:00<?, ?it/s]"
      ]
     },
     "metadata": {},
     "output_type": "display_data"
    },
    {
     "data": {
      "application/vnd.jupyter.widget-view+json": {
       "model_id": "8a8e1f5c0dea421c8eefbf56c7ce3fdc",
       "version_major": 2,
       "version_minor": 0
      },
      "text/plain": [
       "COLLECTING RESULTS | :   0%|          | 0/2 [00:00<?, ?it/s]"
      ]
     },
     "metadata": {},
     "output_type": "display_data"
    },
    {
     "name": "stdout",
     "output_type": "stream",
     "text": [
      " Getting 1 granules, approx download size: 0.02 GB\n"
     ]
    },
    {
     "data": {
      "application/vnd.jupyter.widget-view+json": {
       "model_id": "f7bb1d8681234703a3aa65bc0f57eb1f",
       "version_major": 2,
       "version_minor": 0
      },
      "text/plain": [
       "QUEUEING TASKS | :   0%|          | 0/2 [00:00<?, ?it/s]"
      ]
     },
     "metadata": {},
     "output_type": "display_data"
    },
    {
     "name": "stdout",
     "output_type": "stream",
     "text": [
      "File ASTGTMV003_N34W120_dem.tif already downloaded\n",
      "File ASTGTMV003_N34W120_num.tif already downloaded\n"
     ]
    },
    {
     "data": {
      "application/vnd.jupyter.widget-view+json": {
       "model_id": "03e4d69eb14d47fdadbc22d74846cf25",
       "version_major": 2,
       "version_minor": 0
      },
      "text/plain": [
       "PROCESSING TASKS | :   0%|          | 0/2 [00:00<?, ?it/s]"
      ]
     },
     "metadata": {},
     "output_type": "display_data"
    },
    {
     "data": {
      "application/vnd.jupyter.widget-view+json": {
       "model_id": "ef4d1809a7864a1da27e50a2cb784411",
       "version_major": 2,
       "version_minor": 0
      },
      "text/plain": [
       "COLLECTING RESULTS | :   0%|          | 0/2 [00:00<?, ?it/s]"
      ]
     },
     "metadata": {},
     "output_type": "display_data"
    },
    {
     "name": "stdout",
     "output_type": "stream",
     "text": [
      " Getting 1 granules, approx download size: 0.02 GB\n"
     ]
    },
    {
     "data": {
      "application/vnd.jupyter.widget-view+json": {
       "model_id": "f4003d0b48064c11ae8ad87c94cd8c28",
       "version_major": 2,
       "version_minor": 0
      },
      "text/plain": [
       "QUEUEING TASKS | :   0%|          | 0/2 [00:00<?, ?it/s]"
      ]
     },
     "metadata": {},
     "output_type": "display_data"
    },
    {
     "name": "stdout",
     "output_type": "stream",
     "text": [
      "File ASTGTMV003_N35W120_dem.tif already downloaded\n",
      "File ASTGTMV003_N35W120_num.tif already downloaded\n"
     ]
    },
    {
     "data": {
      "application/vnd.jupyter.widget-view+json": {
       "model_id": "7ca4e9124a934798901cb6f0dc1d8847",
       "version_major": 2,
       "version_minor": 0
      },
      "text/plain": [
       "PROCESSING TASKS | :   0%|          | 0/2 [00:00<?, ?it/s]"
      ]
     },
     "metadata": {},
     "output_type": "display_data"
    },
    {
     "data": {
      "application/vnd.jupyter.widget-view+json": {
       "model_id": "08fb36e1e3b0417ab1a13527a208c0d2",
       "version_major": 2,
       "version_minor": 0
      },
      "text/plain": [
       "COLLECTING RESULTS | :   0%|          | 0/2 [00:00<?, ?it/s]"
      ]
     },
     "metadata": {},
     "output_type": "display_data"
    },
    {
     "name": "stdout",
     "output_type": "stream",
     "text": [
      " Getting 1 granules, approx download size: 0.01 GB\n"
     ]
    },
    {
     "data": {
      "application/vnd.jupyter.widget-view+json": {
       "model_id": "6a4b5f05f10f42d8b03e81f2603f5532",
       "version_major": 2,
       "version_minor": 0
      },
      "text/plain": [
       "QUEUEING TASKS | :   0%|          | 0/2 [00:00<?, ?it/s]"
      ]
     },
     "metadata": {},
     "output_type": "display_data"
    },
    {
     "name": "stdout",
     "output_type": "stream",
     "text": [
      "File ASTGTMV003_N34W121_dem.tif already downloaded\n",
      "File ASTGTMV003_N34W121_num.tif already downloaded\n"
     ]
    },
    {
     "data": {
      "application/vnd.jupyter.widget-view+json": {
       "model_id": "8aff61af58014596b4170865b867b73d",
       "version_major": 2,
       "version_minor": 0
      },
      "text/plain": [
       "PROCESSING TASKS | :   0%|          | 0/2 [00:00<?, ?it/s]"
      ]
     },
     "metadata": {},
     "output_type": "display_data"
    },
    {
     "data": {
      "application/vnd.jupyter.widget-view+json": {
       "model_id": "6d992dc95b734f15bdb37e1e7de5af47",
       "version_major": 2,
       "version_minor": 0
      },
      "text/plain": [
       "COLLECTING RESULTS | :   0%|          | 0/2 [00:00<?, ?it/s]"
      ]
     },
     "metadata": {},
     "output_type": "display_data"
    }
   ],
   "source": [
    "eat.download_dem(tile_id=tile, dem_path=dem_path)"
   ]
  },
  {
   "cell_type": "code",
   "execution_count": 29,
   "metadata": {},
   "outputs": [],
   "source": [
    "\n",
    "\n"
   ]
  },
  {
   "cell_type": "code",
   "execution_count": null,
   "metadata": {},
   "outputs": [],
   "source": [
    "def reproject_dem_to_hls(hls_path, dem_path):\n",
    "    with rasterio.open(hls_path) as dst:\n",
    "        hls = dst.read()\n",
    "        dem = rasterio.open(dem_path)\n",
    "        if dem.crs != dst.crs:\n",
    "            reprojected_dem = np.zeros((hls.shape[1], hls.shape[2]), dtype=hls.dtype)\n",
    "            reproject(\n",
    "                source=dem.read(),\n",
    "                destination=reprojected_dem,\n",
    "                src_transform=dem.transform,\n",
    "                src_crs=dem.crs,\n",
    "                dst_transform=dst.transform,\n",
    "                dst_crs=dst.crs,\n",
    "                resampling=Resampling.bilinear)\n",
    "            if reprojected_dem.any():\n",
    "                return reprojected_dem\n",
    "            else:\n",
    "                return False"
   ]
  }
 ],
 "metadata": {
  "kernelspec": {
   "display_name": "hls_env",
   "language": "python",
   "name": "python3"
  },
  "language_info": {
   "codemirror_mode": {
    "name": "ipython",
    "version": 3
   },
   "file_extension": ".py",
   "mimetype": "text/x-python",
   "name": "python",
   "nbconvert_exporter": "python",
   "pygments_lexer": "ipython3",
   "version": "3.9.19"
  }
 },
 "nbformat": 4,
 "nbformat_minor": 2
}
