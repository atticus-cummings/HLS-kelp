{
 "cells": [
  {
   "cell_type": "code",
   "execution_count": 14,
   "metadata": {},
   "outputs": [],
   "source": [
    "import earthaccess\n",
    "import sys\n",
    "import os\n",
    "if r'C:\\Users\\attic\\HLS Kelp Detection\\tools' not in sys.path:\n",
    "    sys.path.append(r'C:\\Users\\attic\\HLS Kelp Detection\\tools')\n",
    "import kelp_tools_windows as kt\n",
    "import earth_access_tools as eat\n",
    "import mgrs\n",
    "from pyproj import Proj, transform,Transformer\n",
    "import rasterio\n",
    "from rasterio.warp import calculate_default_transform, reproject, Resampling\n",
    "import matplotlib.pyplot as plt\n",
    "import numpy as np\n",
    "import zipfile\n",
    "import requests\n",
    "import xml.etree.ElementTree as ET\n",
    "import csv\n",
    "from scipy.ndimage import binary_dilation, convolve"
   ]
  },
  {
   "cell_type": "code",
   "execution_count": 8,
   "metadata": {},
   "outputs": [],
   "source": [
    "def search_bounding_box(tile_id, csv_file=r'C:\\Users\\attic\\HLS Kelp Detection\\maps\\tiling_boxes.csv', clip=False):\n",
    "        with open(csv_file, mode='r') as file:\n",
    "            csv_reader = csv.reader(file)\n",
    "            coords = None\n",
    "            for row in csv_reader:\n",
    "                if row[0] == tile_id:\n",
    "                    coords = row[1:]\n",
    "                    break\n",
    "            if coords is None:\n",
    "                return None\n",
    "        bounding_box=(float(coords[9]), float(coords[10]), float(coords[3]),float(coords[4]))\n",
    "        print(coords)\n",
    "        return bounding_box"
   ]
  },
  {
   "cell_type": "code",
   "execution_count": null,
   "metadata": {},
   "outputs": [],
   "source": [
    "eat.create_tiling_reference()"
   ]
  },
  {
   "cell_type": "code",
   "execution_count": null,
   "metadata": {},
   "outputs": [],
   "source": [
    "search_bounding_box('11SKU')\n"
   ]
  },
  {
   "cell_type": "code",
   "execution_count": 63,
   "metadata": {},
   "outputs": [],
   "source": [
    "def reproject_dem_to_hls(hls_path, dem_path=r'C:\\Users\\attic\\HLS_Kelp\\imagery\\Socal_DEM.tiff'):\n",
    "    with rasterio.open(hls_path) as dst:\n",
    "        hls = dst.read()\n",
    "        dem = rasterio.open(dem_path)\n",
    "        # plt.figure()\n",
    "        # dem_plot = dem.read()\n",
    "        # plt.imshow(dem_plot[0])\n",
    "        # plt.show()\n",
    "        if dem.crs != dst.crs:\n",
    "            reprojected_dem = np.zeros((hls.shape[1], hls.shape[2]), dtype=hls.dtype)\n",
    "            reproject(\n",
    "                source=dem.read(),\n",
    "                destination=reprojected_dem,\n",
    "                src_transform=dem.transform,\n",
    "                src_crs=dem.crs,\n",
    "                dst_transform=dst.transform,\n",
    "                dst_crs=dst.crs,\n",
    "                resampling=Resampling.bilinear)\n",
    "            if reprojected_dem.any():\n",
    "                return reprojected_dem\n",
    "            else:\n",
    "                return None\n",
    "            \n",
    "def compile_dem(dem_path, hls_path):\n",
    "    files = os.listdir(dem_path)\n",
    "    dem_files = [file for file in files if '_dem' in file]\n",
    "    dem = None\n",
    "    for file in dem_files:\n",
    "        if(dem is None):\n",
    "            dem = (reproject_dem_to_hls(hls_path=hls_path, dem_path=os.path.join(dem_path,file)))\n",
    "        else:\n",
    "            dem = np.where(dem == 0, reproject_dem_to_hls(hls_path=hls_path, dem_path=os.path.join(dem_path,file)), dem)\n",
    "    # end main\n",
    "    return dem \n",
    "\n",
    "def generate_land_mask(reprojected_dem, land_dilation=7, show_image=False, as_numpy=True):\n",
    "    if reprojected_dem.any():\n",
    "        struct = np.ones((land_dilation, land_dilation))\n",
    "        reprojected_dem_gpu = np.asarray(reprojected_dem)\n",
    "        land_mask = binary_dilation(reprojected_dem_gpu > 0, structure=struct)\n",
    "        if as_numpy:\n",
    "            land_mask = np.array(land_mask)\n",
    "        if show_image:\n",
    "            plt.figure(figsize=(6, 6))\n",
    "            if as_numpy:\n",
    "                plt.imshow(land_mask, cmap='gray')\n",
    "            else:\n",
    "                plt.imshow(np.array(land_mask))\n",
    "            plt.show()\n",
    "        return land_mask\n",
    "    else:\n",
    "        print(\"Something failed, you better go check...\")\n",
    "        sys.exit()\n",
    "\n",
    "def create_land_mask(hls_path, dem_path='/mnt/c/Users/attic/HLS_Kelp/imagery/Socal_DEM.tiff', show_image=False, as_numpy=True):\n",
    "    reprojected_dem = compile_dem(dem_path,hls_path)\n",
    "    return generate_land_mask(reprojected_dem, show_image=show_image, as_numpy=as_numpy)"
   ]
  },
  {
   "cell_type": "code",
   "execution_count": 64,
   "metadata": {},
   "outputs": [
    {
     "data": {
      "image/png": "[encoded data removed]",
      "text/plain": [
       "<Figure size 600x600 with 1 Axes>"
      ]
     },
     "metadata": {},
     "output_type": "display_data"
    },
    {
     "data": {
      "text/plain": [
       "array([[ True,  True,  True, ...,  True,  True,  True],\n",
       "       [ True,  True,  True, ...,  True,  True,  True],\n",
       "       [ True,  True,  True, ...,  True,  True,  True],\n",
       "       ...,\n",
       "       [False, False, False, ..., False, False, False],\n",
       "       [False, False, False, ..., False, False, False],\n",
       "       [False, False, False, ..., False, False, False]])"
      ]
     },
     "execution_count": 64,
     "metadata": {},
     "output_type": "execute_result"
    }
   ],
   "source": [
    "hls_path = r'C:\\Users\\attic\\HLS Kelp Detection\\imagery\\tiles\\10SGD\\HLS.L30.T10SGD.2018026T183427.v2.0\\HLS.L30.T10SGD.2018026T183427.v2.0.B02.tif'\n",
    "tile = '10SGD'\n",
    "dem_path = rf'C:\\Users\\attic\\HLS Kelp Detection\\imagery\\tiles\\{tile}\\dem'\n",
    "\n",
    "create_land_mask(hls_path, dem_path=dem_path, show_image=True, as_numpy=True)\n",
    "\n"
   ]
  },
  {
   "cell_type": "code",
   "execution_count": null,
   "metadata": {},
   "outputs": [],
   "source": []
  }
 ],
 "metadata": {
  "kernelspec": {
   "display_name": "hls_env",
   "language": "python",
   "name": "python3"
  },
  "language_info": {
   "codemirror_mode": {
    "name": "ipython",
    "version": 3
   },
   "file_extension": ".py",
   "mimetype": "text/x-python",
   "name": "python",
   "nbconvert_exporter": "python",
   "pygments_lexer": "ipython3",
   "version": "3.9.19"
  }
 },
 "nbformat": 4,
 "nbformat_minor": 2
}
